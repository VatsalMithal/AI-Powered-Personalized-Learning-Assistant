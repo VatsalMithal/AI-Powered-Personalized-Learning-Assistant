{
 "cells": [
  {
   "cell_type": "code",
   "execution_count": 8,
   "id": "ae1aba6a",
   "metadata": {},
   "outputs": [],
   "source": [
    "import pandas as pd\n",
    "import joblib\n",
    "from sklearn.model_selection import train_test_split\n",
    "from sklearn.preprocessing import StandardScaler\n",
    "from sklearn.linear_model import LogisticRegression\n",
    "from sklearn.ensemble import RandomForestClassifier\n",
    "from sklearn.tree import DecisionTreeClassifier\n",
    "from sklearn.neighbors import KNeighborsClassifier\n",
    "from sklearn.metrics import classification_report, confusion_matrix, accuracy_score\n",
    "import matplotlib.pyplot as plt\n",
    "import seaborn as sns"
   ]
  },
  {
   "cell_type": "code",
   "execution_count": 9,
   "id": "97bb2430",
   "metadata": {},
   "outputs": [],
   "source": [
    "X = pd.read_csv('../data/processed/X_processed.csv')\n",
    "y = pd.read_csv('../data/processed/y_processed.csv').squeeze()  # convert to Series"
   ]
  },
  {
   "cell_type": "code",
   "execution_count": 10,
   "id": "c4422b0c",
   "metadata": {},
   "outputs": [],
   "source": [
    "# Train-Test Split\n",
    "X_train, X_test, y_train, y_test = train_test_split(X, y, test_size=0.2, random_state=42, stratify=y)"
   ]
  },
  {
   "cell_type": "code",
   "execution_count": 11,
   "metadata": {},
   "outputs": [],
   "source": [
    "# Scale Numeric Features\n",
    "scaler = StandardScaler()\n",
    "X_train_scaled = scaler.fit_transform(X_train)\n",
    "X_test_scaled = scaler.transform(X_test)"
   ]
  },
  {
   "cell_type": "code",
   "execution_count": 12,
   "metadata": {},
   "outputs": [
    {
     "data": {
      "text/plain": [
       "['../model/scaler.pkl']"
      ]
     },
     "execution_count": 12,
     "metadata": {},
     "output_type": "execute_result"
    }
   ],
   "source": [
    "# Save Scaler\n",
    "joblib.dump(scaler, '../model/scaler.pkl')"
   ]
  },
  {
   "cell_type": "code",
   "execution_count": 13,
   "id": "ddb4c1fa",
   "metadata": {},
   "outputs": [],
   "source": [
    "#  Initialize Models\n",
    "models = {\n",
    "    'Logistic Regression': LogisticRegression(max_iter=1000),\n",
    "    'Random Forest': RandomForestClassifier(n_estimators=100),\n",
    "    'Decision Tree': DecisionTreeClassifier(),\n",
    "    }"
   ]
  },
  {
   "cell_type": "code",
   "execution_count": 14,
   "metadata": {},
   "outputs": [
    {
     "name": "stdout",
     "output_type": "stream",
     "text": [
      "\n",
      "🔍 Model: Logistic Regression\n",
      "Accuracy: 0.9343683330450325\n",
      "\n",
      "Classification Report:\n",
      "               precision    recall  f1-score   support\n",
      "\n",
      "           0       0.99      0.82      0.90     24608\n",
      "           1       0.91      0.99      0.95     44764\n",
      "\n",
      "    accuracy                           0.93     69372\n",
      "   macro avg       0.95      0.91      0.93     69372\n",
      "weighted avg       0.94      0.93      0.93     69372\n",
      "\n",
      "Confusion Matrix:\n",
      " [[20280  4328]\n",
      " [  225 44539]]\n",
      "\n",
      "🔍 Model: Random Forest\n",
      "Accuracy: 0.9403505737185032\n",
      "\n",
      "Classification Report:\n",
      "               precision    recall  f1-score   support\n",
      "\n",
      "           0       0.95      0.88      0.91     24608\n",
      "           1       0.94      0.97      0.95     44764\n",
      "\n",
      "    accuracy                           0.94     69372\n",
      "   macro avg       0.94      0.93      0.93     69372\n",
      "weighted avg       0.94      0.94      0.94     69372\n",
      "\n",
      "Confusion Matrix:\n",
      " [[21640  2968]\n",
      " [ 1170 43594]]\n",
      "\n",
      "🔍 Model: Decision Tree\n",
      "Accuracy: 0.9269734186703569\n",
      "\n",
      "Classification Report:\n",
      "               precision    recall  f1-score   support\n",
      "\n",
      "           0       0.90      0.90      0.90     24608\n",
      "           1       0.94      0.94      0.94     44764\n",
      "\n",
      "    accuracy                           0.93     69372\n",
      "   macro avg       0.92      0.92      0.92     69372\n",
      "weighted avg       0.93      0.93      0.93     69372\n",
      "\n",
      "Confusion Matrix:\n",
      " [[22116  2492]\n",
      " [ 2574 42190]]\n"
     ]
    }
   ],
   "source": [
    "#  Train and Evaluate Models\n",
    "results = []\n",
    "\n",
    "for name, model in models.items():\n",
    "    model.fit(X_train_scaled, y_train)\n",
    "    y_pred = model.predict(X_test_scaled)\n",
    "    acc = accuracy_score(y_test, y_pred)\n",
    "    results.append({'Model': name, 'Accuracy': acc})\n",
    "    \n",
    "    print(f\"\\n🔍 Model: {name}\")\n",
    "    print(\"Accuracy:\", acc)\n",
    "    print(\"\\nClassification Report:\\n\", classification_report(y_test, y_pred))\n",
    "    print(\"Confusion Matrix:\\n\", confusion_matrix(y_test, y_pred))"
   ]
  },
  {
   "cell_type": "code",
   "execution_count": 15,
   "metadata": {},
   "outputs": [
    {
     "name": "stdout",
     "output_type": "stream",
     "text": [
      "\n",
      "✅ Best Model: Random Forest saved.\n"
     ]
    }
   ],
   "source": [
    "#  Save the Best Model \n",
    "best_model_name = max(results, key=lambda x: x['Accuracy'])['Model']\n",
    "best_model = models[best_model_name]\n",
    "joblib.dump(best_model, f'../model/{best_model_name.replace(\" \", \"_\").lower()}.pkl')\n",
    "\n",
    "print(f\"\\n✅ Best Model: {best_model_name} saved.\")"
   ]
  },
  {
   "cell_type": "code",
   "execution_count": 16,
   "metadata": {},
   "outputs": [
    {
     "data": {
      "image/png": "[encoded data removed]",
      "text/plain": [
       "<Figure size 800x500 with 1 Axes>"
      ]
     },
     "metadata": {},
     "output_type": "display_data"
    }
   ],
   "source": [
    "#  Plot Accuracy Comparison\n",
    "results_df = pd.DataFrame(results)\n",
    "\n",
    "plt.figure(figsize=(8, 5))\n",
    "sns.barplot(data=results_df, x='Model', y='Accuracy')\n",
    "plt.title('Model Accuracy Comparison')\n",
    "plt.ylim(0, 1)\n",
    "plt.savefig('../eda/model_accuracy_comparison.png')\n",
    "plt.show()\n"
   ]
  }
 ],
 "metadata": {
  "kernelspec": {
   "display_name": "myenv",
   "language": "python",
   "name": "python3"
  },
  "language_info": {
   "codemirror_mode": {
    "name": "ipython",
    "version": 3
   },
   "file_extension": ".py",
   "mimetype": "text/x-python",
   "name": "python",
   "nbconvert_exporter": "python",
   "pygments_lexer": "ipython3",
   "version": "3.12.11"
  }
 },
 "nbformat": 4,
 "nbformat_minor": 5
}
