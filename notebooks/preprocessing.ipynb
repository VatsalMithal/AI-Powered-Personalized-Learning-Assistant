{
 "cells": [
  {
   "cell_type": "code",
   "execution_count": 23,
   "id": "f0d8eba5",
   "metadata": {},
   "outputs": [],
   "source": [
    "import pandas as pd\n",
    "from sklearn.preprocessing import LabelEncoder\n",
    "import joblib"
   ]
  },
  {
   "cell_type": "code",
   "execution_count": 24,
   "id": "348d5a46",
   "metadata": {},
   "outputs": [
    {
     "name": "stderr",
     "output_type": "stream",
     "text": [
      "C:\\Users\\Dell\\AppData\\Local\\Temp\\ipykernel_12284\\2404466982.py:1: DtypeWarning: Columns (17,18) have mixed types. Specify dtype option on import or set low_memory=False.\n",
      "  df = pd.read_csv('../data/raw/skill_builder_dataset.csv', encoding='ISO-8859-1' , low_memory='False')\n"
     ]
    }
   ],
   "source": [
    "df = pd.read_csv('../data/raw/skill_builder_dataset.csv', encoding='ISO-8859-1' , low_memory='False')"
   ]
  },
  {
   "cell_type": "code",
   "execution_count": 25,
   "metadata": {},
   "outputs": [],
   "source": [
    "# Drop Irrelevant Columns\n",
    "drop_cols = [\n",
    "    'Unnamed: 0', 'order_id', 'assignment_id', 'user_id', 'assistment_id', 'problem_id',\n",
    "    'original', 'teacher_id', 'school_id', 'student_class_id', 'sequence_id',\n",
    "    'base_sequence_id', 'template_id', 'answer_id', 'answer_text', 'bottom_hint'\n",
    "]\n",
    "df = df.drop(columns=drop_cols)"
   ]
  },
  {
   "cell_type": "code",
   "execution_count": 26,
   "metadata": {},
   "outputs": [],
   "source": [
    "# Handle Missing Values in 'skill_id'\n",
    "df['skill_id'] = df['skill_id'].fillna('Unknown')"
   ]
  },
  {
   "cell_type": "code",
   "execution_count": 27,
   "id": "a084fb67",
   "metadata": {},
   "outputs": [],
   "source": [
    "numeric_cols = [\n",
    "    'attempt_count', 'ms_first_response', 'hint_count', 'hint_total',\n",
    "    'overlap_time', 'first_action', 'opportunity', 'opportunity_original', 'position'\n",
    "]"
   ]
  },
  {
   "cell_type": "code",
   "execution_count": 28,
   "id": "925fc6a8",
   "metadata": {},
   "outputs": [],
   "source": [
    "# Fill missing numeric values with the median of each column\n",
    "for col in numeric_cols:\n",
    "    df[col] = df[col].fillna(df[col].median())"
   ]
  },
  {
   "cell_type": "code",
   "execution_count": 29,
   "id": "bec3e097",
   "metadata": {},
   "outputs": [],
   "source": [
    "# ✅ Encode Categorical Features\n",
    "label_encoders = {}\n",
    "categorical_cols = ['tutor_mode', 'answer_type', 'skill_id']\n",
    "for col in categorical_cols:\n",
    "    le = LabelEncoder()\n",
    "    df[col] = le.fit_transform(df[col].astype(str))\n",
    "    label_encoders[col] = le"
   ]
  },
  {
   "cell_type": "code",
   "execution_count": 30,
   "metadata": {},
   "outputs": [],
   "source": [
    "# Save the Encoders for Streamlit App\n",
    "for col, le in label_encoders.items():\n",
    "    joblib.dump(le, f'../model/encoder_{col}.pkl')"
   ]
  },
  {
   "cell_type": "code",
   "execution_count": 31,
   "metadata": {},
   "outputs": [],
   "source": [
    "# Prepare X and y\n",
    "selected_features = numeric_cols + categorical_cols\n",
    "\n",
    "X = df[selected_features]\n",
    "y = df['correct']"
   ]
  },
  {
   "cell_type": "code",
   "execution_count": 32,
   "id": "1ad6fbe0",
   "metadata": {},
   "outputs": [
    {
     "name": "stdout",
     "output_type": "stream",
     "text": [
      "✅ Preprocessing complete. X and y saved.\n"
     ]
    }
   ],
   "source": [
    "# Save Processed Data\n",
    "X.to_csv('../data/processed/X_processed.csv', index=False)\n",
    "y.to_csv('../data/processed/y_processed.csv', index=False)\n",
    "\n",
    "print(\"✅ Preprocessing complete. X and y saved.\")\n"
   ]
  }
 ],
 "metadata": {
  "kernelspec": {
   "display_name": "myenv",
   "language": "python",
   "name": "python3"
  },
  "language_info": {
   "codemirror_mode": {
    "name": "ipython",
    "version": 3
   },
   "file_extension": ".py",
   "mimetype": "text/x-python",
   "name": "python",
   "nbconvert_exporter": "python",
   "pygments_lexer": "ipython3",
   "version": "3.12.11"
  }
 },
 "nbformat": 4,
 "nbformat_minor": 5
}
